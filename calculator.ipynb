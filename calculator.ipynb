{
 "cells": [
  {
   "cell_type": "code",
   "execution_count": null,
   "metadata": {},
   "outputs": [],
   "source": [
    "def add(a,b):\n",
    "    return a+b\n",
    "def sub(a,b):\n",
    "    return a-b\n",
    "def multi(a,b):\n",
    "    return a*b\n",
    "def div(a,b):\n",
    "    return a/b\n",
    "print(\"please enter your choice\")\n",
    "print(\" 1 for add 2 for sub 3 for multi 4 for div\")\n",
    "choice=int(input())\n",
    "while True:\n",
    "    if choice in range(1,5):\n",
    "        a=float(input('Enter the first number'))\n",
    "        b=float(input('Enter the second number'))\n",
    "        if choice==1:\n",
    "            print(\"Addition is \",add(a,b))\n",
    "        elif choice==2:\n",
    "            print(\"Substraction is \",sub(a,b))\n",
    "        elif choice==3:\n",
    "            print(\"Multiplication is \",multi(a,b))\n",
    "        elif choice==4:\n",
    "            print(\"Division is \",div(a,b))\n",
    "        break\n",
    "    else:\n",
    "        print('Invalid choice')\n",
    "    break\n",
    "    \n"
   ]
  },
  {
   "cell_type": "code",
   "execution_count": null,
   "metadata": {},
   "outputs": [],
   "source": []
  },
  {
   "cell_type": "code",
   "execution_count": null,
   "metadata": {},
   "outputs": [],
   "source": []
  }
 ],
 "metadata": {
  "kernelspec": {
   "display_name": "Python 3",
   "language": "python",
   "name": "python3"
  },
  "language_info": {
   "codemirror_mode": {
    "name": "ipython",
    "version": 3
   },
   "file_extension": ".py",
   "mimetype": "text/x-python",
   "name": "python",
   "nbconvert_exporter": "python",
   "pygments_lexer": "ipython3",
   "version": "3.7.3"
  }
 },
 "nbformat": 4,
 "nbformat_minor": 2
}
